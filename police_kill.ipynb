{
  "nbformat": 4,
  "nbformat_minor": 0,
  "metadata": {
    "colab": {
      "name": "police_kill.ipynb",
      "provenance": [],
      "collapsed_sections": [],
      "include_colab_link": true
    },
    "kernelspec": {
      "name": "python3",
      "display_name": "Python 3"
    }
  },
  "cells": [
    {
      "cell_type": "markdown",
      "metadata": {
        "id": "view-in-github",
        "colab_type": "text"
      },
      "source": [
        "<a href=\"https://colab.research.google.com/github/ZhiyuanH3/Scraping/blob/master/police_kill.ipynb\" target=\"_parent\"><img src=\"https://colab.research.google.com/assets/colab-badge.svg\" alt=\"Open In Colab\"/></a>"
      ]
    },
    {
      "cell_type": "code",
      "metadata": {
        "id": "zhIuJZAsiANP",
        "colab_type": "code",
        "colab": {}
      },
      "source": [
        "#import matplotlib\n",
        "from matplotlib import pyplot as plt\n",
        "import pandas as pd"
      ],
      "execution_count": 0,
      "outputs": []
    },
    {
      "cell_type": "code",
      "metadata": {
        "id": "KRnO971ziINU",
        "colab_type": "code",
        "colab": {}
      },
      "source": [
        "import urllib.request"
      ],
      "execution_count": 0,
      "outputs": []
    },
    {
      "cell_type": "code",
      "metadata": {
        "id": "otMGvZo4jL1k",
        "colab_type": "code",
        "colab": {
          "base_uri": "https://localhost:8080/",
          "height": 34
        },
        "outputId": "141fef93-8d0e-4d19-f54f-eed225ed8ee4"
      },
      "source": [
        "# download csv data file\n",
        "url = 'https://raw.githubusercontent.com/fivethirtyeight/data/master/police-killings/police_killings.csv'\n",
        "urllib.request.urlretrieve(url, './police_killings.csv')"
      ],
      "execution_count": 3,
      "outputs": [
        {
          "output_type": "execute_result",
          "data": {
            "text/plain": [
              "('./police_killings.csv', <http.client.HTTPMessage at 0x7fdef6996ef0>)"
            ]
          },
          "metadata": {
            "tags": []
          },
          "execution_count": 3
        }
      ]
    },
    {
      "cell_type": "code",
      "metadata": {
        "id": "hEy926h4jeH5",
        "colab_type": "code",
        "colab": {
          "base_uri": "https://localhost:8080/",
          "height": 295
        },
        "outputId": "612de1da-222a-494d-f3f1-328e1918f011"
      },
      "source": [
        "# read file\n",
        "inf = pd.read_csv('./police_killings.csv', encoding = 'cp1252')\n",
        "inf.head(4)"
      ],
      "execution_count": 10,
      "outputs": [
        {
          "output_type": "execute_result",
          "data": {
            "text/html": [
              "<div>\n",
              "<style scoped>\n",
              "    .dataframe tbody tr th:only-of-type {\n",
              "        vertical-align: middle;\n",
              "    }\n",
              "\n",
              "    .dataframe tbody tr th {\n",
              "        vertical-align: top;\n",
              "    }\n",
              "\n",
              "    .dataframe thead th {\n",
              "        text-align: right;\n",
              "    }\n",
              "</style>\n",
              "<table border=\"1\" class=\"dataframe\">\n",
              "  <thead>\n",
              "    <tr style=\"text-align: right;\">\n",
              "      <th></th>\n",
              "      <th>name</th>\n",
              "      <th>age</th>\n",
              "      <th>gender</th>\n",
              "      <th>raceethnicity</th>\n",
              "      <th>month</th>\n",
              "      <th>day</th>\n",
              "      <th>year</th>\n",
              "      <th>streetaddress</th>\n",
              "      <th>city</th>\n",
              "      <th>state</th>\n",
              "      <th>latitude</th>\n",
              "      <th>longitude</th>\n",
              "      <th>state_fp</th>\n",
              "      <th>county_fp</th>\n",
              "      <th>tract_ce</th>\n",
              "      <th>geo_id</th>\n",
              "      <th>county_id</th>\n",
              "      <th>namelsad</th>\n",
              "      <th>lawenforcementagency</th>\n",
              "      <th>cause</th>\n",
              "      <th>armed</th>\n",
              "      <th>pop</th>\n",
              "      <th>share_white</th>\n",
              "      <th>share_black</th>\n",
              "      <th>share_hispanic</th>\n",
              "      <th>p_income</th>\n",
              "      <th>h_income</th>\n",
              "      <th>county_income</th>\n",
              "      <th>comp_income</th>\n",
              "      <th>county_bucket</th>\n",
              "      <th>nat_bucket</th>\n",
              "      <th>pov</th>\n",
              "      <th>urate</th>\n",
              "      <th>college</th>\n",
              "    </tr>\n",
              "  </thead>\n",
              "  <tbody>\n",
              "    <tr>\n",
              "      <th>0</th>\n",
              "      <td>A'donte Washington</td>\n",
              "      <td>16</td>\n",
              "      <td>Male</td>\n",
              "      <td>Black</td>\n",
              "      <td>February</td>\n",
              "      <td>23</td>\n",
              "      <td>2015</td>\n",
              "      <td>Clearview Ln</td>\n",
              "      <td>Millbrook</td>\n",
              "      <td>AL</td>\n",
              "      <td>32.529577</td>\n",
              "      <td>-86.362829</td>\n",
              "      <td>1</td>\n",
              "      <td>51</td>\n",
              "      <td>30902</td>\n",
              "      <td>1051030902</td>\n",
              "      <td>1051</td>\n",
              "      <td>Census Tract 309.02</td>\n",
              "      <td>Millbrook Police Department</td>\n",
              "      <td>Gunshot</td>\n",
              "      <td>No</td>\n",
              "      <td>3779</td>\n",
              "      <td>60.5</td>\n",
              "      <td>30.5</td>\n",
              "      <td>5.6</td>\n",
              "      <td>28375</td>\n",
              "      <td>51367.0</td>\n",
              "      <td>54766</td>\n",
              "      <td>0.937936</td>\n",
              "      <td>3.0</td>\n",
              "      <td>3.0</td>\n",
              "      <td>14.1</td>\n",
              "      <td>0.097686</td>\n",
              "      <td>0.168510</td>\n",
              "    </tr>\n",
              "    <tr>\n",
              "      <th>1</th>\n",
              "      <td>Aaron Rutledge</td>\n",
              "      <td>27</td>\n",
              "      <td>Male</td>\n",
              "      <td>White</td>\n",
              "      <td>April</td>\n",
              "      <td>2</td>\n",
              "      <td>2015</td>\n",
              "      <td>300 block Iris Park Dr</td>\n",
              "      <td>Pineville</td>\n",
              "      <td>LA</td>\n",
              "      <td>31.321739</td>\n",
              "      <td>-92.434860</td>\n",
              "      <td>22</td>\n",
              "      <td>79</td>\n",
              "      <td>11700</td>\n",
              "      <td>22079011700</td>\n",
              "      <td>22079</td>\n",
              "      <td>Census Tract 117</td>\n",
              "      <td>Rapides Parish Sheriff's Office</td>\n",
              "      <td>Gunshot</td>\n",
              "      <td>No</td>\n",
              "      <td>2769</td>\n",
              "      <td>53.8</td>\n",
              "      <td>36.2</td>\n",
              "      <td>0.5</td>\n",
              "      <td>14678</td>\n",
              "      <td>27972.0</td>\n",
              "      <td>40930</td>\n",
              "      <td>0.683411</td>\n",
              "      <td>2.0</td>\n",
              "      <td>1.0</td>\n",
              "      <td>28.8</td>\n",
              "      <td>0.065724</td>\n",
              "      <td>0.111402</td>\n",
              "    </tr>\n",
              "    <tr>\n",
              "      <th>2</th>\n",
              "      <td>Aaron Siler</td>\n",
              "      <td>26</td>\n",
              "      <td>Male</td>\n",
              "      <td>White</td>\n",
              "      <td>March</td>\n",
              "      <td>14</td>\n",
              "      <td>2015</td>\n",
              "      <td>22nd Ave and 56th St</td>\n",
              "      <td>Kenosha</td>\n",
              "      <td>WI</td>\n",
              "      <td>42.583560</td>\n",
              "      <td>-87.835710</td>\n",
              "      <td>55</td>\n",
              "      <td>59</td>\n",
              "      <td>1200</td>\n",
              "      <td>55059001200</td>\n",
              "      <td>55059</td>\n",
              "      <td>Census Tract 12</td>\n",
              "      <td>Kenosha Police Department</td>\n",
              "      <td>Gunshot</td>\n",
              "      <td>No</td>\n",
              "      <td>4079</td>\n",
              "      <td>73.8</td>\n",
              "      <td>7.7</td>\n",
              "      <td>16.8</td>\n",
              "      <td>25286</td>\n",
              "      <td>45365.0</td>\n",
              "      <td>54930</td>\n",
              "      <td>0.825869</td>\n",
              "      <td>2.0</td>\n",
              "      <td>3.0</td>\n",
              "      <td>14.6</td>\n",
              "      <td>0.166293</td>\n",
              "      <td>0.147312</td>\n",
              "    </tr>\n",
              "    <tr>\n",
              "      <th>3</th>\n",
              "      <td>Aaron Valdez</td>\n",
              "      <td>25</td>\n",
              "      <td>Male</td>\n",
              "      <td>Hispanic/Latino</td>\n",
              "      <td>March</td>\n",
              "      <td>11</td>\n",
              "      <td>2015</td>\n",
              "      <td>3000 Seminole Ave</td>\n",
              "      <td>South Gate</td>\n",
              "      <td>CA</td>\n",
              "      <td>33.939298</td>\n",
              "      <td>-118.219463</td>\n",
              "      <td>6</td>\n",
              "      <td>37</td>\n",
              "      <td>535607</td>\n",
              "      <td>6037535607</td>\n",
              "      <td>6037</td>\n",
              "      <td>Census Tract 5356.07</td>\n",
              "      <td>South Gate Police Department</td>\n",
              "      <td>Gunshot</td>\n",
              "      <td>Firearm</td>\n",
              "      <td>4343</td>\n",
              "      <td>1.2</td>\n",
              "      <td>0.6</td>\n",
              "      <td>98.8</td>\n",
              "      <td>17194</td>\n",
              "      <td>48295.0</td>\n",
              "      <td>55909</td>\n",
              "      <td>0.863814</td>\n",
              "      <td>3.0</td>\n",
              "      <td>3.0</td>\n",
              "      <td>11.7</td>\n",
              "      <td>0.124827</td>\n",
              "      <td>0.050133</td>\n",
              "    </tr>\n",
              "  </tbody>\n",
              "</table>\n",
              "</div>"
            ],
            "text/plain": [
              "                 name age gender  ...   pov     urate   college\n",
              "0  A'donte Washington  16   Male  ...  14.1  0.097686  0.168510\n",
              "1      Aaron Rutledge  27   Male  ...  28.8  0.065724  0.111402\n",
              "2         Aaron Siler  26   Male  ...  14.6  0.166293  0.147312\n",
              "3        Aaron Valdez  25   Male  ...  11.7  0.124827  0.050133\n",
              "\n",
              "[4 rows x 34 columns]"
            ]
          },
          "metadata": {
            "tags": []
          },
          "execution_count": 10
        }
      ]
    },
    {
      "cell_type": "code",
      "metadata": {
        "id": "9Av1GtDbqAon",
        "colab_type": "code",
        "colab": {}
      },
      "source": [
        "#inf.describe()"
      ],
      "execution_count": 0,
      "outputs": []
    },
    {
      "cell_type": "code",
      "metadata": {
        "id": "_eHUKEHnoYFd",
        "colab_type": "code",
        "colab": {}
      },
      "source": [
        "# There's one entry, where the age info is unknown. Let's drop it and convert object type to int.\n",
        "ages = inf.age[inf.age != 'Unknown']\n",
        "ages = ages.apply(int)"
      ],
      "execution_count": 0,
      "outputs": []
    },
    {
      "cell_type": "code",
      "metadata": {
        "id": "6p9EjdQvj13p",
        "colab_type": "code",
        "colab": {
          "base_uri": "https://localhost:8080/",
          "height": 284
        },
        "outputId": "a7e12428-5af4-4977-fb1a-5d0a8bc90300"
      },
      "source": [
        "plt.hist(ages, bins=20)\n",
        "plt.xlabel('Age of decreased',fontsize=16)\n",
        "plt.ylabel('Counts',fontsize=16)\n",
        "#plt.xticks(fontsize=8)\n",
        "\n",
        "fig = plt.gcf()\n",
        "fig.set_size_inches(16,4)\n",
        "\n",
        "plt.show()"
      ],
      "execution_count": 55,
      "outputs": [
        {
          "output_type": "display_data",
          "data": {
            "image/png": "[encoded data removed]",
            "text/plain": [
              "<Figure size 1152x288 with 1 Axes>"
            ]
          },
          "metadata": {
            "tags": []
          }
        }
      ]
    },
    {
      "cell_type": "code",
      "metadata": {
        "id": "Cl49Rthfmf4Y",
        "colab_type": "code",
        "colab": {}
      },
      "source": [
        "# Gauss distributed?"
      ],
      "execution_count": 0,
      "outputs": []
    },
    {
      "cell_type": "code",
      "metadata": {
        "id": "xszEsdUBrErb",
        "colab_type": "code",
        "colab": {}
      },
      "source": [
        "#inf.gender"
      ],
      "execution_count": 0,
      "outputs": []
    },
    {
      "cell_type": "code",
      "metadata": {
        "id": "lLhZv8jgrHkB",
        "colab_type": "code",
        "colab": {
          "base_uri": "https://localhost:8080/",
          "height": 298
        },
        "outputId": "346cb755-ed61-439e-d0a8-cd309106b0e8"
      },
      "source": [
        "plt.hist(inf.gender)\n",
        "plt.title('Gender of decreased')\n",
        "plt.ylabel('Counts')"
      ],
      "execution_count": 56,
      "outputs": [
        {
          "output_type": "execute_result",
          "data": {
            "text/plain": [
              "Text(0, 0.5, 'Counts')"
            ]
          },
          "metadata": {
            "tags": []
          },
          "execution_count": 56
        },
        {
          "output_type": "display_data",
          "data": {
            "image/png": "[encoded data removed]",
            "text/plain": [
              "<Figure size 432x288 with 1 Axes>"
            ]
          },
          "metadata": {
            "tags": []
          }
        }
      ]
    },
    {
      "cell_type": "code",
      "metadata": {
        "id": "LcvLmGbvrL9r",
        "colab_type": "code",
        "colab": {}
      },
      "source": [
        "# Almost all decreased from this dataset are male."
      ],
      "execution_count": 0,
      "outputs": []
    },
    {
      "cell_type": "code",
      "metadata": {
        "id": "PCBOgZYXrbzb",
        "colab_type": "code",
        "colab": {}
      },
      "source": [
        "#inf.raceethnicity"
      ],
      "execution_count": 0,
      "outputs": []
    },
    {
      "cell_type": "code",
      "metadata": {
        "id": "d9BFsv93rk1R",
        "colab_type": "code",
        "colab": {
          "base_uri": "https://localhost:8080/",
          "height": 281
        },
        "outputId": "267553b7-2516-49a7-dfb2-a93261b4eef9"
      },
      "source": [
        "plt.hist(inf.raceethnicity, )\n",
        "plt.title('Race/enthnicity of decreased')\n",
        "plt.ylabel('Counts')\n",
        "fig = plt.gcf()\n",
        "fig.set_size_inches(12,4)"
      ],
      "execution_count": 57,
      "outputs": [
        {
          "output_type": "display_data",
          "data": {
            "image/png": "[encoded data removed]",
            "text/plain": [
              "<Figure size 864x288 with 1 Axes>"
            ]
          },
          "metadata": {
            "tags": []
          }
        }
      ]
    },
    {
      "cell_type": "code",
      "metadata": {
        "id": "0fSghTOBroXn",
        "colab_type": "code",
        "colab": {}
      },
      "source": [
        "# "
      ],
      "execution_count": 0,
      "outputs": []
    },
    {
      "cell_type": "code",
      "metadata": {
        "id": "UNXm2uLTv120",
        "colab_type": "code",
        "colab": {}
      },
      "source": [
        ""
      ],
      "execution_count": 0,
      "outputs": []
    }
  ]
}